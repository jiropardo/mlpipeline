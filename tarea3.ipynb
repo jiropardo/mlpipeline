{
 "cells": [
  {
   "cell_type": "markdown",
   "metadata": {
    "colab_type": "text",
    "id": "FYCK8Y-lTb3O"
   },
   "source": [
    "\n",
    "\n",
    "# Módulo 4 - Big Data\n",
    "Tarea\n",
    "Estudiante: Jairo Prado"
   ]
  },
  {
   "cell_type": "markdown",
   "metadata": {
    "colab_type": "text",
    "id": "BvlqRf1PTb3R"
   },
   "source": [
    "# Lectura y limpieza"
   ]
  },
  {
   "cell_type": "code",
   "execution_count": null,
   "metadata": {
    "colab": {},
    "colab_type": "code",
    "id": "pBbCLAzXTb3S",
    "outputId": "0bf8d265-bd7c-40ee-e9cd-c5c01cbf30b7"
   },
   "outputs": [],
   "source": [
    "# Cargar el conjunto de datos completo\n",
    "import findspark\n",
    "findspark.init('/usr/lib/python3.7/site-packages/pyspark')\n",
    "\n",
    "from pyspark.sql.types import (StringType, IntegerType, FloatType, \n",
    "                               DecimalType, StructField, StructType, DoubleType)\n",
    "\n",
    "from pyspark.sql import SparkSession\n",
    "\n",
    "spark = SparkSession \\\n",
    "    .builder \\\n",
    "    .appName(\"Basic JDBC pipeline\") \\\n",
    "    .config(\"spark.driver.extraClassPath\", \"postgresql-42.2.14.jar\") \\\n",
    "    .config(\"spark.executor.extraClassPath\", \"postgresql-42.2.14.jar\") \\\n",
    "    .getOrCreate()\n",
    "\n",
    "diabetes_df = spark \\\n",
    "    .read \\\n",
    "    .format(\"csv\") \\\n",
    "    .option(\"path\", \"diabetes_dataset.csv\") \\\n",
    "    .option(\"header\", True) \\\n",
    "    .schema(StructType([\n",
    "                StructField(\"age\", IntegerType()),\n",
    "                StructField(\"gender\", StringType()),\n",
    "                StructField(\"ethnicity\", StringType()),\n",
    "                StructField(\"education_level\", StringType()),\n",
    "                StructField(\"income_level\", StringType()),\n",
    "                StructField(\"employment_status\", StringType()),\n",
    "                StructField(\"smoking_status\", StringType()),\n",
    "                StructField(\"alcohol_consumption_per_week\",  IntegerType()),\n",
    "                StructField(\"physical_activity_minutes_per_week\", IntegerType()),\n",
    "                StructField(\"diet_score\", DoubleType()),\n",
    "                StructField(\"sleep_hours_per_day\", DoubleType()),\n",
    "                StructField(\"screen_time_hours_per_day\", DoubleType()),\n",
    "                StructField(\"family_history_diabetes\", IntegerType()),\n",
    "                StructField(\"hypertension_history\", IntegerType()),\n",
    "                StructField(\"cardiovascular_history\", IntegerType()),\n",
    "                StructField(\"bmi\", DoubleType()),\n",
    "                StructField(\"waist_to_hip_ratio\", DoubleType()),\n",
    "                StructField(\"systolic_bp\", IntegerType()),\n",
    "                StructField(\"diastolic_bp\", IntegerType()),\n",
    "                StructField(\"heart_rate\", IntegerType()),\n",
    "                StructField(\"cholesterol_total\", IntegerType()),\n",
    "                StructField(\"hdl_cholesterol\", IntegerType()),\n",
    "                StructField(\"ldl_cholesterol\", IntegerType()),\n",
    "                StructField(\"triglycerides\", IntegerType()),\n",
    "                StructField(\"glucose_fasting\", IntegerType()),\n",
    "                StructField(\"glucose_postprandial\", IntegerType()),\n",
    "                StructField(\"insulin_level\", DoubleType()),\n",
    "                StructField(\"hba1c\", DoubleType()),\n",
    "                StructField(\"diabetes_risk_score\", DoubleType()),\n",
    "                StructField(\"diabetes_stage\", StringType()),\n",
    "                StructField(\"diagnosed_diabetes\", IntegerType())])) \\\n",
    "    .load()\n",
    "\n",
    "#diabetes_df.printSchema()\n",
    "diabetes_df.show()"
   ]
  },
  {
   "cell_type": "code",
   "execution_count": null,
   "metadata": {
    "colab": {},
    "colab_type": "code",
    "id": "TeCBV1AGTb3X",
    "outputId": "87a92ff5-f247-4a75-e470-8c6e7acf2ad1"
   },
   "outputs": [],
   "source": [
    "# Seleccionar un subconjunto de las columnas de interés y el objectivo que es el precio\n",
    "columns_kept = ['age','gender','ethnicity','education_level','income_level','employment_status','smoking_status','alcohol_consumption_per_week','physical_activity_minutes_per_week','diet_score','sleep_hours_per_day','screen_time_hours_per_day','family_history_diabetes','hypertension_history','cardiovascular_history','bmi','waist_to_hip_ratio','systolic_bp','diastolic_bp','heart_rate','cholesterol_total','hdl_cholesterol','ldl_cholesterol','triglycerides','glucose_fasting','glucose_postprandial','insulin_level','hba1c']\n",
    "\n",
    "target = ['diagnosed_diabetes']\n",
    "\n",
    "selected_columns_df = houses_df.select(columns_kept)\n",
    "\n",
    "selected_columns_df.show()"
   ]
  },
  {
   "cell_type": "code",
   "execution_count": null,
   "metadata": {},
   "outputs": [],
   "source": [
    "# Seleccionar un subconjunto de las columnas de interés y el objectivo que es el precio\n",
    "columns  = ['age','gender','ethnicity','smoking_status','alcohol_consumption_per_week','physical_activity_minutes_per_week','diet_score','sleep_hours_per_day','screen_time_hours_per_day','family_history_diabetes','hypertension_history','cardiovascular_history','bmi','waist_to_hip_ratio','systolic_bp','diastolic_bp','heart_rate','cholesterol_total','hdl_cholesterol','ldl_cholesterol','triglycerides','glucose_fasting','glucose_postprandial','insulin_level','hba1c', 'diagnosed_diabetes']\n",
    "\n",
    "selected_columns = diabetes_df.select(columns)\n",
    "\n",
    "selected_features_df.show()"
   ]
  },
  {
   "cell_type": "code",
   "execution_count": null,
   "metadata": {
    "colab": {},
    "colab_type": "code",
    "id": "nrI9A9WcTb3a",
    "outputId": "16ccba9f-a52b-45da-908a-68aee8a0e5c5"
   },
   "outputs": [],
   "source": [
    "# Analisys de nulos.\n",
    "from pyspark.sql.functions import col, sum as _sum, when\n",
    "\n",
    "columns = ['age','gender','ethnicity','smoking_status','alcohol_consumption_per_week',\n",
    "        'physical_activity_minutes_per_week','diet_score','sleep_hours_per_day',\n",
    "        'screen_time_hours_per_day','family_history_diabetes','hypertension_history',\n",
    "        'cardiovascular_history','bmi','waist_to_hip_ratio','systolic_bp','diastolic_bp',\n",
    "        'heart_rate','cholesterol_total','hdl_cholesterol','ldl_cholesterol','triglycerides',\n",
    "        'glucose_fasting','glucose_postprandial','insulin_level','hba1c','diagnosed_diabetes']\n",
    "\n",
    "# Compute null counts\n",
    "null_counts = diabetes_df.select([\n",
    "    _sum(when(col(c).isNull(), 1).otherwise(0)).alias(c) for c in columns\n",
    "]).toPandas().T.reset_index()\n",
    "\n",
    "# Rename columns\n",
    "null_counts.columns = ['Column', 'Null_Count']\n",
    "\n",
    "# Sort by count descending\n",
    "null_counts = null_counts.sort_values(by='Null_Count', ascending=False)\n",
    "\n",
    "# Pretty print\n",
    "print(\"\\n🧾 Null counts per column:\\n\")\n",
    "print(null_counts.to_string(index=False))"
   ]
  },
  {
   "cell_type": "code",
   "execution_count": null,
   "metadata": {
    "colab": {},
    "colab_type": "code",
    "id": "-LtTt2AyTb3d"
   },
   "outputs": [],
   "source": [
    "# Almacenar el conjunto de datos limpio en la base de datos\n",
    "correct_types_df \\\n",
    "    .write \\\n",
    "    .format(\"jdbc\") \\\n",
    "    .mode('overwrite') \\\n",
    "    .option(\"url\", \"jdbc:postgresql://host.docker.internal:5433/postgres\") \\\n",
    "    .option(\"user\", \"postgres\") \\\n",
    "    .option(\"password\", \"testPassword\") \\\n",
    "    .option(\"dbtable\", \"houses\") \\\n",
    "    .save()"
   ]
  },
  {
   "cell_type": "markdown",
   "metadata": {
    "colab_type": "text",
    "id": "93Fc2KNTTb3f"
   },
   "source": [
    "# Inspección de datos\n",
    "Previo a entrenar el modelo es común que se realice algún tipo de descripción de los datos, para tener una idea del tipo de problema con el que nos enfrentamos. A continuación, algunas operacions útiles que podemos usar.\n"
   ]
  },
  {
   "cell_type": "code",
   "execution_count": null,
   "metadata": {
    "colab": {},
    "colab_type": "code",
    "id": "5II3C8K8Tb3g",
    "outputId": "6b22d1ec-2fd8-45e3-b4fb-b590ddedbc39",
    "scrolled": false
   },
   "outputs": [],
   "source": [
    "# Cargar el conjunto de datos. Esta vez desde la base de datos\n",
    "\n",
    "# Reading single DataFrame in Spark by retrieving all rows from a DB table.\n",
    "df = spark \\\n",
    "    .read \\\n",
    "    .format(\"jdbc\") \\\n",
    "    .option(\"url\", \"jdbc:postgresql://host.docker.internal:5433/postgres\") \\\n",
    "    .option(\"user\", \"postgres\") \\\n",
    "    .option(\"password\", \"testPassword\") \\\n",
    "    .option(\"dbtable\", \"houses\") \\\n",
    "    .load()\n",
    "\n",
    "df.show()"
   ]
  },
  {
   "cell_type": "code",
   "execution_count": null,
   "metadata": {
    "colab": {},
    "colab_type": "code",
    "id": "AE0l-XQrTb3i",
    "outputId": "0c6d6e23-0fcf-4f32-843a-c2bea0c43490"
   },
   "outputs": [],
   "source": [
    "# Información descriptiva del dataframe.\n",
    "df.describe(['bedrooms', 'floors', 'yr_built']).show()"
   ]
  },
  {
   "cell_type": "code",
   "execution_count": null,
   "metadata": {
    "colab": {},
    "colab_type": "code",
    "id": "mf87eHm0Tb3l",
    "outputId": "2f2f9241-8a13-4e29-dbda-2634ec36431b",
    "scrolled": true
   },
   "outputs": [],
   "source": [
    "# Para realizar operaciones más detalladas es necesario expresar las filas originales en vectores\n",
    "from pyspark.ml.feature import VectorAssembler\n",
    "\n",
    "assembler = VectorAssembler(\n",
    "    inputCols=['bedrooms', 'bathrooms', 'sqft_living', 'sqft_lot',\n",
    "               'floors', 'condition', 'yr_built'],\n",
    "    outputCol='features')\n",
    "\n",
    "vector_df = assembler.transform(df)\n",
    "vector_df = vector_df.select(['features', 'price'])\n",
    "vector_df.show()\n"
   ]
  },
  {
   "cell_type": "code",
   "execution_count": null,
   "metadata": {
    "colab": {},
    "colab_type": "code",
    "id": "RbaZdhT3Tb3n",
    "outputId": "98906a43-fafb-4761-b434-9b99c186ee96"
   },
   "outputs": [],
   "source": [
    "# Con la representación de vectores podemos calcular correlaciones\n",
    "from pyspark.ml.stat import Correlation\n",
    "import seaborn as sns\n",
    "import matplotlib.pyplot as plt\n",
    "\n",
    "pearson_matrix = Correlation.corr(vector_df, 'features').collect()[0][0]\n",
    "\n",
    "sns.heatmap(pearson_matrix.toArray(), annot=True, fmt=\".2f\", cmap='viridis')"
   ]
  },
  {
   "cell_type": "markdown",
   "metadata": {
    "colab_type": "text",
    "id": "2yFnobBFTb3q"
   },
   "source": [
    "# Estandarización\n",
    "Como recordamos de los módulos anteriores es deseable que los datos se encuentren estandarizados o normalizados, para evitar que la magnitud de ciertos atributos dominen el proceso de entrenamiento. El módulo `pyspark.ml.feature` tiene varias alternativas. A continuación se presenta una."
   ]
  },
  {
   "cell_type": "code",
   "execution_count": null,
   "metadata": {
    "colab": {},
    "colab_type": "code",
    "id": "d-15zk2zTb3r",
    "outputId": "2691dd1d-b936-4e4e-c786-b858c0e087e2"
   },
   "outputs": [],
   "source": [
    "from pyspark.ml.feature import StandardScaler\n",
    "\n",
    "standard_scaler = StandardScaler(inputCol='features', outputCol='scaled')\n",
    "scale_model = standard_scaler.fit(vector_df)\n",
    "\n",
    "scaled_df = scale_model.transform(vector_df)\n",
    "scaled_df.show()"
   ]
  },
  {
   "cell_type": "markdown",
   "metadata": {
    "colab_type": "text",
    "id": "bv62COlLTb3t"
   },
   "source": [
    "# Regresión lineal\n",
    "Como ejemplo de un tipo de modelo a entrenar usaremos una regresión lineal básica para tratar de predecir el precio. Para ellos utilizaremos los datos estandarizados."
   ]
  },
  {
   "cell_type": "code",
   "execution_count": null,
   "metadata": {
    "colab": {},
    "colab_type": "code",
    "id": "o1DW64l8Tb3u",
    "outputId": "3c5aa274-e910-43a5-9c65-fab83a0b7853"
   },
   "outputs": [],
   "source": [
    "# Nótese que no se hace partición de datos de entrenamiento (ejercicio posterior).\n",
    "from pyspark.ml.regression import LinearRegression\n",
    "\n",
    "regression = LinearRegression(featuresCol='scaled', labelCol='price')\n",
    "regression_model = regression.fit(scaled_df)\n",
    "\n",
    "print('Pesos: {}\\n b: {}'.format(regression_model.coefficients, regression_model.intercept))\n",
    "\n",
    "print('RMSE: {} r2: {}'.format(\n",
    "    regression_model.summary.rootMeanSquaredError,\n",
    "    regression_model.summary.r2))\n",
    "\n",
    "scaled_df.describe().show()\n",
    "\n",
    "# Si se quiere hacer predicciones nada más se requiere llamar a regression_model.transform(df)\n",
    "# Esto regresa el dataset con una columna nueva"
   ]
  },
  {
   "cell_type": "markdown",
   "metadata": {
    "colab_type": "text",
    "id": "c51g7LCKTb3x"
   },
   "source": [
    "# Ejercicio\n",
    "- Dividir los datos leídos desde la base de datos en dos conjuntos utilizando las funcionalidades de muestreo de Spark.\n",
    "- Entrene el modelo en uno y evalúe en otro. Escriba los resultados evaluados en una tabla en Postgresql.\n",
    "- Implementar un esquema de k-fold cross validation. Evalúe los resultados según RMSE y r2.\n",
    "- Pruebe diferentes parámetros a la regresión.\n",
    "- Pruebe diferentes tipos de regresión."
   ]
  }
 ],
 "metadata": {
  "celltoolbar": "Edit Metadata",
  "colab": {
   "name": "BigData-Leccion5.ipynb",
   "provenance": []
  },
  "kernelspec": {
   "display_name": "Python 3",
   "language": "python",
   "name": "python3"
  },
  "language_info": {
   "codemirror_mode": {
    "name": "ipython",
    "version": 3
   },
   "file_extension": ".py",
   "mimetype": "text/x-python",
   "name": "python",
   "nbconvert_exporter": "python",
   "pygments_lexer": "ipython3",
   "version": "3.10.11"
  }
 },
 "nbformat": 4,
 "nbformat_minor": 1
}
